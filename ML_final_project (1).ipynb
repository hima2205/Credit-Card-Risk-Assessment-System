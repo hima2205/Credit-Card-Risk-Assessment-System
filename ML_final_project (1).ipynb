{
  "cells": [
    {
      "cell_type": "code",
      "execution_count": 2,
      "id": "f77dfa3d",
      "metadata": {
        "id": "f77dfa3d"
      },
      "outputs": [],
      "source": [
        "import pandas as pd\n",
        "import matplotlib.pyplot as plt\n",
        "import seaborn as sns"
      ]
    },
    {
      "cell_type": "code",
      "execution_count": 6,
      "id": "05a22e8d",
      "metadata": {
        "id": "05a22e8d"
      },
      "outputs": [],
      "source": [
        "data = pd.read_csv('/creditcard.csv')"
      ]
    },
    {
      "cell_type": "code",
      "execution_count": null,
      "id": "7c7618b6",
      "metadata": {
        "id": "7c7618b6",
        "outputId": "ccac0a03-0825-47f1-9840-47734f3deed6"
      },
      "outputs": [
        {
          "name": "stdout",
          "output_type": "stream",
          "text": [
            "   Time        V1        V2        V3        V4        V5        V6        V7  \\\n",
            "0   0.0 -1.359807 -0.072781  2.536347  1.378155 -0.338321  0.462388  0.239599   \n",
            "1   0.0  1.191857  0.266151  0.166480  0.448154  0.060018 -0.082361 -0.078803   \n",
            "2   1.0 -1.358354 -1.340163  1.773209  0.379780 -0.503198  1.800499  0.791461   \n",
            "3   1.0 -0.966272 -0.185226  1.792993 -0.863291 -0.010309  1.247203  0.237609   \n",
            "4   2.0 -1.158233  0.877737  1.548718  0.403034 -0.407193  0.095921  0.592941   \n",
            "\n",
            "         V8        V9  ...       V21       V22       V23       V24       V25  \\\n",
            "0  0.098698  0.363787  ... -0.018307  0.277838 -0.110474  0.066928  0.128539   \n",
            "1  0.085102 -0.255425  ... -0.225775 -0.638672  0.101288 -0.339846  0.167170   \n",
            "2  0.247676 -1.514654  ...  0.247998  0.771679  0.909412 -0.689281 -0.327642   \n",
            "3  0.377436 -1.387024  ... -0.108300  0.005274 -0.190321 -1.175575  0.647376   \n",
            "4 -0.270533  0.817739  ... -0.009431  0.798278 -0.137458  0.141267 -0.206010   \n",
            "\n",
            "        V26       V27       V28  Amount  Class  \n",
            "0 -0.189115  0.133558 -0.021053  149.62      0  \n",
            "1  0.125895 -0.008983  0.014724    2.69      0  \n",
            "2 -0.139097 -0.055353 -0.059752  378.66      0  \n",
            "3 -0.221929  0.062723  0.061458  123.50      0  \n",
            "4  0.502292  0.219422  0.215153   69.99      0  \n",
            "\n",
            "[5 rows x 31 columns]\n"
          ]
        }
      ],
      "source": [
        "print(data.head())"
      ]
    },
    {
      "cell_type": "code",
      "execution_count": null,
      "id": "0121aa0a",
      "metadata": {
        "id": "0121aa0a",
        "outputId": "62e6cf17-5205-4e69-c823-be598e726583"
      },
      "outputs": [
        {
          "name": "stdout",
          "output_type": "stream",
          "text": [
            "                Time            V1            V2            V3            V4  \\\n",
            "count  284807.000000  2.848070e+05  2.848070e+05  2.848070e+05  2.848070e+05   \n",
            "mean    94813.859575  1.168375e-15  3.416908e-16 -1.379537e-15  2.074095e-15   \n",
            "std     47488.145955  1.958696e+00  1.651309e+00  1.516255e+00  1.415869e+00   \n",
            "min         0.000000 -5.640751e+01 -7.271573e+01 -4.832559e+01 -5.683171e+00   \n",
            "25%     54201.500000 -9.203734e-01 -5.985499e-01 -8.903648e-01 -8.486401e-01   \n",
            "50%     84692.000000  1.810880e-02  6.548556e-02  1.798463e-01 -1.984653e-02   \n",
            "75%    139320.500000  1.315642e+00  8.037239e-01  1.027196e+00  7.433413e-01   \n",
            "max    172792.000000  2.454930e+00  2.205773e+01  9.382558e+00  1.687534e+01   \n",
            "\n",
            "                 V5            V6            V7            V8            V9  \\\n",
            "count  2.848070e+05  2.848070e+05  2.848070e+05  2.848070e+05  2.848070e+05   \n",
            "mean   9.604066e-16  1.487313e-15 -5.556467e-16  1.213481e-16 -2.406331e-15   \n",
            "std    1.380247e+00  1.332271e+00  1.237094e+00  1.194353e+00  1.098632e+00   \n",
            "min   -1.137433e+02 -2.616051e+01 -4.355724e+01 -7.321672e+01 -1.343407e+01   \n",
            "25%   -6.915971e-01 -7.682956e-01 -5.540759e-01 -2.086297e-01 -6.430976e-01   \n",
            "50%   -5.433583e-02 -2.741871e-01  4.010308e-02  2.235804e-02 -5.142873e-02   \n",
            "75%    6.119264e-01  3.985649e-01  5.704361e-01  3.273459e-01  5.971390e-01   \n",
            "max    3.480167e+01  7.330163e+01  1.205895e+02  2.000721e+01  1.559499e+01   \n",
            "\n",
            "       ...           V21           V22           V23           V24  \\\n",
            "count  ...  2.848070e+05  2.848070e+05  2.848070e+05  2.848070e+05   \n",
            "mean   ...  1.654067e-16 -3.568593e-16  2.578648e-16  4.473266e-15   \n",
            "std    ...  7.345240e-01  7.257016e-01  6.244603e-01  6.056471e-01   \n",
            "min    ... -3.483038e+01 -1.093314e+01 -4.480774e+01 -2.836627e+00   \n",
            "25%    ... -2.283949e-01 -5.423504e-01 -1.618463e-01 -3.545861e-01   \n",
            "50%    ... -2.945017e-02  6.781943e-03 -1.119293e-02  4.097606e-02   \n",
            "75%    ...  1.863772e-01  5.285536e-01  1.476421e-01  4.395266e-01   \n",
            "max    ...  2.720284e+01  1.050309e+01  2.252841e+01  4.584549e+00   \n",
            "\n",
            "                V25           V26           V27           V28         Amount  \\\n",
            "count  2.848070e+05  2.848070e+05  2.848070e+05  2.848070e+05  284807.000000   \n",
            "mean   5.340915e-16  1.683437e-15 -3.660091e-16 -1.227390e-16      88.349619   \n",
            "std    5.212781e-01  4.822270e-01  4.036325e-01  3.300833e-01     250.120109   \n",
            "min   -1.029540e+01 -2.604551e+00 -2.256568e+01 -1.543008e+01       0.000000   \n",
            "25%   -3.171451e-01 -3.269839e-01 -7.083953e-02 -5.295979e-02       5.600000   \n",
            "50%    1.659350e-02 -5.213911e-02  1.342146e-03  1.124383e-02      22.000000   \n",
            "75%    3.507156e-01  2.409522e-01  9.104512e-02  7.827995e-02      77.165000   \n",
            "max    7.519589e+00  3.517346e+00  3.161220e+01  3.384781e+01   25691.160000   \n",
            "\n",
            "               Class  \n",
            "count  284807.000000  \n",
            "mean        0.001727  \n",
            "std         0.041527  \n",
            "min         0.000000  \n",
            "25%         0.000000  \n",
            "50%         0.000000  \n",
            "75%         0.000000  \n",
            "max         1.000000  \n",
            "\n",
            "[8 rows x 31 columns]\n"
          ]
        }
      ],
      "source": [
        "print(data.describe())"
      ]
    },
    {
      "cell_type": "code",
      "execution_count": null,
      "id": "70bd58ae",
      "metadata": {
        "id": "70bd58ae",
        "outputId": "9465bfa0-d3af-4d61-c059-e57c11e6b150"
      },
      "outputs": [
        {
          "name": "stdout",
          "output_type": "stream",
          "text": [
            "Time      0\n",
            "V1        0\n",
            "V2        0\n",
            "V3        0\n",
            "V4        0\n",
            "V5        0\n",
            "V6        0\n",
            "V7        0\n",
            "V8        0\n",
            "V9        0\n",
            "V10       0\n",
            "V11       0\n",
            "V12       0\n",
            "V13       0\n",
            "V14       0\n",
            "V15       0\n",
            "V16       0\n",
            "V17       0\n",
            "V18       0\n",
            "V19       0\n",
            "V20       0\n",
            "V21       0\n",
            "V22       0\n",
            "V23       0\n",
            "V24       0\n",
            "V25       0\n",
            "V26       0\n",
            "V27       0\n",
            "V28       0\n",
            "Amount    0\n",
            "Class     0\n",
            "dtype: int64\n"
          ]
        }
      ],
      "source": [
        "print(data.isnull().sum())"
      ]
    },
    {
      "cell_type": "code",
      "execution_count": 23,
      "id": "04a5609d",
      "metadata": {
        "colab": {
          "base_uri": "https://localhost:8080/"
        },
        "id": "04a5609d",
        "outputId": "ba63afcb-f1d2-4891-89c1-d3506a8b7bd5"
      },
      "outputs": [
        {
          "output_type": "stream",
          "name": "stdout",
          "text": [
            "Number of duplicate entries: 3439\n"
          ]
        }
      ],
      "source": [
        "duplicates = data.duplicated()\n",
        "print(f\"Number of duplicate entries: {duplicates.sum()}\")"
      ]
    },
    {
      "cell_type": "code",
      "execution_count": 21,
      "id": "c6828aff",
      "metadata": {
        "id": "c6828aff"
      },
      "outputs": [],
      "source": [
        "data_clean = data.drop_duplicates()"
      ]
    },
    {
      "cell_type": "code",
      "execution_count": null,
      "id": "7575a765",
      "metadata": {
        "id": "7575a765",
        "outputId": "135e42d6-dcb8-4836-e185-985145e3d3c7"
      },
      "outputs": [
        {
          "name": "stdout",
          "output_type": "stream",
          "text": [
            "Data shape after removing duplicates: (283726, 31)\n"
          ]
        }
      ],
      "source": [
        "print(f\"Data shape after removing duplicates: {data_clean.shape}\")"
      ]
    },
    {
      "cell_type": "code",
      "execution_count": 22,
      "id": "1f46300b",
      "metadata": {
        "colab": {
          "base_uri": "https://localhost:8080/"
        },
        "id": "1f46300b",
        "outputId": "741696ad-a24b-45fd-d2ea-3a9899591047"
      },
      "outputs": [
        {
          "output_type": "stream",
          "name": "stdout",
          "text": [
            "Number of duplicate entries: 0\n"
          ]
        }
      ],
      "source": [
        "duplicates = data_clean.duplicated()\n",
        "print(f\"Number of duplicate entries: {duplicates.sum()}\")"
      ]
    },
    {
      "cell_type": "code",
      "execution_count": null,
      "id": "904f3128",
      "metadata": {
        "id": "904f3128",
        "outputId": "d9be8214-4b98-48a1-99d4-05b7728ede5c"
      },
      "outputs": [
        {
          "data": {
            "image/png": "[encoded data removed]",
            "text/plain": [
              "<Figure size 600x400 with 1 Axes>"
            ]
          },
          "metadata": {},
          "output_type": "display_data"
        }
      ],
      "source": [
        "plt.figure(figsize=(6, 4))\n",
        "sns.countplot(x='Class', data=data_clean)\n",
        "plt.title('Class Distribution (0: No Fraud | 1: Fraud)')\n",
        "plt.show()"
      ]
    },
    {
      "cell_type": "code",
      "execution_count": null,
      "id": "59fc2a3b",
      "metadata": {
        "id": "59fc2a3b",
        "outputId": "90cc5da3-31b4-42cd-d16c-0272dc15510e"
      },
      "outputs": [
        {
          "data": {
            "image/png": "[encoded data removed]",
            "text/plain": [
              "<Figure size 1200x1000 with 4 Axes>"
            ]
          },
          "metadata": {},
          "output_type": "display_data"
        }
      ],
      "source": [
        "fig, ax = plt.subplots(nrows=2, ncols=2, figsize=(12, 10))\n",
        "sns.histplot(data_clean['Amount'], bins=30, ax=ax[0, 0])\n",
        "ax[0, 0].set_title('Transaction Amount Distribution')\n",
        "sns.histplot(data_clean['Time'], bins=30, ax=ax[0, 1])\n",
        "ax[0, 1].set_title('Transaction Time Distribution')\n",
        "sns.histplot(data_clean[data_clean['Class'] == 1]['Amount'], bins=30, ax=ax[1, 0])\n",
        "ax[1, 0].set_title('Distribution of Amount for Fraud Transactions')\n",
        "sns.histplot(data_clean[data_clean['Class'] == 1]['Time'], bins=30, ax=ax[1, 1])\n",
        "ax[1, 1].set_title('Distribution of Time for Fraud Transactions')\n",
        "plt.tight_layout()"
      ]
    },
    {
      "cell_type": "code",
      "execution_count": null,
      "id": "9b759b5b",
      "metadata": {
        "id": "9b759b5b",
        "outputId": "38d7f0f3-7170-4b96-e527-3d74c919210f"
      },
      "outputs": [
        {
          "data": {
            "image/png": "[encoded data removed]",
            "text/plain": [
              "<Figure size 1000x600 with 1 Axes>"
            ]
          },
          "metadata": {},
          "output_type": "display_data"
        }
      ],
      "source": [
        "plt.figure(figsize=(10, 6))\n",
        "sns.boxplot(x='Class', y='Amount', data=data_clean)\n",
        "plt.title('Box plot of Transaction Amount by Class')\n",
        "plt.show()"
      ]
    },
    {
      "cell_type": "code",
      "execution_count": 7,
      "id": "81559aa6",
      "metadata": {
        "id": "81559aa6"
      },
      "outputs": [],
      "source": [
        "import pandas as pd\n",
        "from sklearn.model_selection import train_test_split\n",
        "from sklearn.preprocessing import MinMaxScaler\n",
        "from sklearn.linear_model import LogisticRegression\n",
        "from sklearn.tree import DecisionTreeClassifier\n",
        "from sklearn.ensemble import RandomForestClassifier, GradientBoostingClassifier\n",
        "from sklearn.metrics import classification_report"
      ]
    },
    {
      "cell_type": "code",
      "execution_count": 5,
      "id": "f8621655",
      "metadata": {
        "colab": {
          "base_uri": "https://localhost:8080/"
        },
        "id": "f8621655",
        "outputId": "b0acc06c-7e70-47d5-8407-c560be825b9c"
      },
      "outputs": [
        {
          "output_type": "stream",
          "name": "stderr",
          "text": [
            "<ipython-input-5-f43b9c9f541f>:2: SettingWithCopyWarning: \n",
            "A value is trying to be set on a copy of a slice from a DataFrame.\n",
            "Try using .loc[row_indexer,col_indexer] = value instead\n",
            "\n",
            "See the caveats in the documentation: https://pandas.pydata.org/pandas-docs/stable/user_guide/indexing.html#returning-a-view-versus-a-copy\n",
            "  data_clean[['Amount']] = scaler.fit_transform(data_clean[['Amount']])\n"
          ]
        }
      ],
      "source": [
        "scaler = MinMaxScaler()\n",
        "data_clean[['Amount']] = scaler.fit_transform(data_clean[['Amount']])\n"
      ]
    },
    {
      "cell_type": "code",
      "execution_count": 6,
      "id": "c6c4ad94",
      "metadata": {
        "id": "c6c4ad94"
      },
      "outputs": [],
      "source": [
        "data=data_clean.drop('Time',axis=1)"
      ]
    },
    {
      "cell_type": "code",
      "execution_count": 7,
      "id": "35f8d0df",
      "metadata": {
        "id": "35f8d0df"
      },
      "outputs": [],
      "source": [
        "\n",
        "# Splitting the data into features and target\n",
        "X = data.drop('Class', axis=1)\n",
        "y = data['Class']\n",
        "\n",
        "\n",
        "# Split the data into train and test sets\n",
        "X_train, X_test, y_train, y_test = train_test_split(X, y, test_size=0.2, random_state=42, stratify=y)\n"
      ]
    },
    {
      "cell_type": "code",
      "execution_count": 8,
      "id": "c9cd4a15",
      "metadata": {
        "id": "c9cd4a15"
      },
      "outputs": [],
      "source": [
        "models = {\n",
        "    'Logistic Regression': LogisticRegression(),\n",
        "    'Decision Tree': DecisionTreeClassifier(),\n",
        "    'Random Forest': RandomForestClassifier(),\n",
        "    'Gradient Boosting': GradientBoostingClassifier()\n",
        "}"
      ]
    },
    {
      "cell_type": "code",
      "execution_count": null,
      "id": "21994fb9",
      "metadata": {
        "id": "21994fb9",
        "outputId": "4ac7ffbf-a56e-4b57-9f94-535e419fc99b"
      },
      "outputs": [
        {
          "name": "stderr",
          "output_type": "stream",
          "text": [
            "/Users/himabindukotha/anaconda3/lib/python3.11/site-packages/sklearn/linear_model/_logistic.py:460: ConvergenceWarning: lbfgs failed to converge (status=1):\n",
            "STOP: TOTAL NO. of ITERATIONS REACHED LIMIT.\n",
            "\n",
            "Increase the number of iterations (max_iter) or scale the data as shown in:\n",
            "    https://scikit-learn.org/stable/modules/preprocessing.html\n",
            "Please also refer to the documentation for alternative solver options:\n",
            "    https://scikit-learn.org/stable/modules/linear_model.html#logistic-regression\n",
            "  n_iter_i = _check_optimize_result(\n"
          ]
        },
        {
          "name": "stdout",
          "output_type": "stream",
          "text": [
            "Logistic Regression - Training Data Classification Report:\n",
            "              precision    recall  f1-score   support\n",
            "\n",
            "           0       1.00      1.00      1.00    226602\n",
            "           1       0.88      0.63      0.73       378\n",
            "\n",
            "    accuracy                           1.00    226980\n",
            "   macro avg       0.94      0.81      0.87    226980\n",
            "weighted avg       1.00      1.00      1.00    226980\n",
            "\n",
            "Logistic Regression - Testing Data Classification Report:\n",
            "              precision    recall  f1-score   support\n",
            "\n",
            "           0       1.00      1.00      1.00     56651\n",
            "           1       0.86      0.59      0.70        95\n",
            "\n",
            "    accuracy                           1.00     56746\n",
            "   macro avg       0.93      0.79      0.85     56746\n",
            "weighted avg       1.00      1.00      1.00     56746\n",
            "\n",
            "------------------------------------------------------------\n",
            "Decision Tree - Training Data Classification Report:\n",
            "              precision    recall  f1-score   support\n",
            "\n",
            "           0       1.00      1.00      1.00    226602\n",
            "           1       1.00      1.00      1.00       378\n",
            "\n",
            "    accuracy                           1.00    226980\n",
            "   macro avg       1.00      1.00      1.00    226980\n",
            "weighted avg       1.00      1.00      1.00    226980\n",
            "\n",
            "Decision Tree - Testing Data Classification Report:\n",
            "              precision    recall  f1-score   support\n",
            "\n",
            "           0       1.00      1.00      1.00     56651\n",
            "           1       0.72      0.68      0.70        95\n",
            "\n",
            "    accuracy                           1.00     56746\n",
            "   macro avg       0.86      0.84      0.85     56746\n",
            "weighted avg       1.00      1.00      1.00     56746\n",
            "\n",
            "------------------------------------------------------------\n",
            "Random Forest - Training Data Classification Report:\n",
            "              precision    recall  f1-score   support\n",
            "\n",
            "           0       1.00      1.00      1.00    226602\n",
            "           1       1.00      1.00      1.00       378\n",
            "\n",
            "    accuracy                           1.00    226980\n",
            "   macro avg       1.00      1.00      1.00    226980\n",
            "weighted avg       1.00      1.00      1.00    226980\n",
            "\n",
            "Random Forest - Testing Data Classification Report:\n",
            "              precision    recall  f1-score   support\n",
            "\n",
            "           0       1.00      1.00      1.00     56651\n",
            "           1       0.96      0.75      0.84        95\n",
            "\n",
            "    accuracy                           1.00     56746\n",
            "   macro avg       0.98      0.87      0.92     56746\n",
            "weighted avg       1.00      1.00      1.00     56746\n",
            "\n",
            "------------------------------------------------------------\n",
            "Gradient Boosting - Training Data Classification Report:\n",
            "              precision    recall  f1-score   support\n",
            "\n",
            "           0       1.00      1.00      1.00    226602\n",
            "           1       0.94      0.72      0.82       378\n",
            "\n",
            "    accuracy                           1.00    226980\n",
            "   macro avg       0.97      0.86      0.91    226980\n",
            "weighted avg       1.00      1.00      1.00    226980\n",
            "\n",
            "Gradient Boosting - Testing Data Classification Report:\n",
            "              precision    recall  f1-score   support\n",
            "\n",
            "           0       1.00      1.00      1.00     56651\n",
            "           1       0.89      0.67      0.77        95\n",
            "\n",
            "    accuracy                           1.00     56746\n",
            "   macro avg       0.94      0.84      0.88     56746\n",
            "weighted avg       1.00      1.00      1.00     56746\n",
            "\n",
            "------------------------------------------------------------\n"
          ]
        }
      ],
      "source": [
        "for name, model in models.items():\n",
        "    model.fit(X_train, y_train)\n",
        "    y_train_pred = model.predict(X_train)\n",
        "    y_test_pred = model.predict(X_test)\n",
        "\n",
        "    print(f\"{name} - Training Data Classification Report:\")\n",
        "    print(classification_report(y_train, y_train_pred))\n",
        "    print(f\"{name} - Testing Data Classification Report:\")\n",
        "    print(classification_report(y_test, y_test_pred))\n",
        "    print('-' * 60)"
      ]
    },
    {
      "cell_type": "code",
      "execution_count": 9,
      "id": "3e74c3de",
      "metadata": {
        "id": "3e74c3de"
      },
      "outputs": [],
      "source": [
        "from imblearn.over_sampling import SMOTE\n",
        "from imblearn.pipeline import Pipeline as IMBPipeline"
      ]
    },
    {
      "cell_type": "code",
      "execution_count": 11,
      "id": "43f3c2f2",
      "metadata": {
        "id": "43f3c2f2"
      },
      "outputs": [],
      "source": [
        "smote = SMOTE(random_state=42)\n",
        "X_resampled, y_resampled = smote.fit_resample(X, y)\n",
        "\n",
        "# Split the data into training and testing sets\n",
        "X_train_smote, X_test_smote, y_train_smote, y_test_smote = train_test_split(X_resampled, y_resampled, test_size=0.2, random_state=42)"
      ]
    },
    {
      "cell_type": "code",
      "source": [],
      "metadata": {
        "id": "cBx1eZRAtg4w"
      },
      "id": "cBx1eZRAtg4w",
      "execution_count": null,
      "outputs": []
    },
    {
      "cell_type": "code",
      "execution_count": 12,
      "id": "c55f8c88",
      "metadata": {
        "colab": {
          "base_uri": "https://localhost:8080/"
        },
        "id": "c55f8c88",
        "outputId": "f1b7e02b-15ca-4977-a724-c0e01aebf210"
      },
      "outputs": [
        {
          "output_type": "stream",
          "name": "stdout",
          "text": [
            "Logistic Regression - Training Data Classification Report:\n",
            "              precision    recall  f1-score   support\n",
            "\n",
            "           0       0.92      0.97      0.94    226790\n",
            "           1       0.97      0.91      0.94    226414\n",
            "\n",
            "    accuracy                           0.94    453204\n",
            "   macro avg       0.94      0.94      0.94    453204\n",
            "weighted avg       0.94      0.94      0.94    453204\n",
            "\n",
            "Logistic Regression - Testing Data Classification Report:\n",
            "              precision    recall  f1-score   support\n",
            "\n",
            "           0       0.92      0.97      0.94     56463\n",
            "           1       0.97      0.91      0.94     56839\n",
            "\n",
            "    accuracy                           0.94    113302\n",
            "   macro avg       0.94      0.94      0.94    113302\n",
            "weighted avg       0.94      0.94      0.94    113302\n",
            "\n",
            "------------------------------------------------------------\n",
            "Decision Tree - Training Data Classification Report:\n",
            "              precision    recall  f1-score   support\n",
            "\n",
            "           0       1.00      1.00      1.00    226790\n",
            "           1       1.00      1.00      1.00    226414\n",
            "\n",
            "    accuracy                           1.00    453204\n",
            "   macro avg       1.00      1.00      1.00    453204\n",
            "weighted avg       1.00      1.00      1.00    453204\n",
            "\n",
            "Decision Tree - Testing Data Classification Report:\n",
            "              precision    recall  f1-score   support\n",
            "\n",
            "           0       1.00      1.00      1.00     56463\n",
            "           1       1.00      1.00      1.00     56839\n",
            "\n",
            "    accuracy                           1.00    113302\n",
            "   macro avg       1.00      1.00      1.00    113302\n",
            "weighted avg       1.00      1.00      1.00    113302\n",
            "\n",
            "------------------------------------------------------------\n",
            "Random Forest - Training Data Classification Report:\n",
            "              precision    recall  f1-score   support\n",
            "\n",
            "           0       1.00      1.00      1.00    226790\n",
            "           1       1.00      1.00      1.00    226414\n",
            "\n",
            "    accuracy                           1.00    453204\n",
            "   macro avg       1.00      1.00      1.00    453204\n",
            "weighted avg       1.00      1.00      1.00    453204\n",
            "\n",
            "Random Forest - Testing Data Classification Report:\n",
            "              precision    recall  f1-score   support\n",
            "\n",
            "           0       1.00      1.00      1.00     56463\n",
            "           1       1.00      1.00      1.00     56839\n",
            "\n",
            "    accuracy                           1.00    113302\n",
            "   macro avg       1.00      1.00      1.00    113302\n",
            "weighted avg       1.00      1.00      1.00    113302\n",
            "\n",
            "------------------------------------------------------------\n",
            "Gradient Boosting - Training Data Classification Report:\n",
            "              precision    recall  f1-score   support\n",
            "\n",
            "           0       0.97      0.99      0.98    226790\n",
            "           1       0.99      0.97      0.98    226414\n",
            "\n",
            "    accuracy                           0.98    453204\n",
            "   macro avg       0.98      0.98      0.98    453204\n",
            "weighted avg       0.98      0.98      0.98    453204\n",
            "\n",
            "Gradient Boosting - Testing Data Classification Report:\n",
            "              precision    recall  f1-score   support\n",
            "\n",
            "           0       0.97      0.99      0.98     56463\n",
            "           1       0.99      0.97      0.98     56839\n",
            "\n",
            "    accuracy                           0.98    113302\n",
            "   macro avg       0.98      0.98      0.98    113302\n",
            "weighted avg       0.98      0.98      0.98    113302\n",
            "\n",
            "------------------------------------------------------------\n"
          ]
        }
      ],
      "source": [
        "for name, model in models.items():\n",
        "    model.fit(X_train_smote, y_train_smote)\n",
        "    y_train_pred = model.predict(X_train_smote)\n",
        "    y_test_pred = model.predict(X_test_smote)\n",
        "\n",
        "    print(f\"{name} - Training Data Classification Report:\")\n",
        "    print(classification_report(y_train_smote, y_train_pred))\n",
        "    print(f\"{name} - Testing Data Classification Report:\")\n",
        "    print(classification_report(y_test_smote, y_test_pred))\n",
        "    print('-' * 60)"
      ]
    },
    {
      "cell_type": "code",
      "source": [
        "import numpy as np\n"
      ],
      "metadata": {
        "id": "J7P9mJCQoorX"
      },
      "id": "J7P9mJCQoorX",
      "execution_count": 14,
      "outputs": []
    },
    {
      "cell_type": "code",
      "source": [
        "data = pd.read_csv('/creditcard.csv')\n",
        "data = data.drop_duplicates()\n",
        "\n",
        "# Scaling 'Amount' and 'Time' as they are not in the range [0,1]\n",
        "scaler = MinMaxScaler()\n",
        "data[['Amount', 'Time']] = scaler.fit_transform(data[['Amount', 'Time']])\n",
        "\n",
        "# Create 'Hour of Transaction' from 'Time'\n",
        "# Assuming 'Time' is in seconds, we convert it to hours and then take modulo 24\n",
        "data['Hour_of_Transaction'] = (data['Time'] * 24 * 3600 // 3600) % 24\n",
        "\n",
        "# Categorize 'Amount' into 'Small', 'Medium', 'High' bins\n",
        "# Define the bins based on quantiles\n",
        "amount_bins = pd.qcut(data['Amount'], q=[0, 0.33, 0.66, 1], labels=[\"Small\", \"Medium\", \"High\"])\n",
        "data['Amount_Bin'] = amount_bins\n",
        "\n",
        "# View the updated DataFrame to check the new feature\n",
        "print(data[['Time', 'Amount', 'Hour_of_Transaction', 'Amount_Bin']].head())"
      ],
      "metadata": {
        "colab": {
          "base_uri": "https://localhost:8080/"
        },
        "id": "jv2o1cHroQ1h",
        "outputId": "3ac4a562-c85c-46d0-f2de-f9b41c92316a"
      },
      "id": "jv2o1cHroQ1h",
      "execution_count": 8,
      "outputs": [
        {
          "output_type": "stream",
          "name": "stdout",
          "text": [
            "       Time    Amount  Hour_of_Transaction Amount_Bin\n",
            "0  0.000000  0.005824                  0.0       High\n",
            "1  0.000000  0.000105                  0.0      Small\n",
            "2  0.000006  0.014739                  0.0       High\n",
            "3  0.000006  0.004807                  0.0       High\n",
            "4  0.000012  0.002724                  0.0       High\n"
          ]
        },
        {
          "output_type": "stream",
          "name": "stderr",
          "text": [
            "<ipython-input-8-4cc932e07152>:6: SettingWithCopyWarning: \n",
            "A value is trying to be set on a copy of a slice from a DataFrame.\n",
            "Try using .loc[row_indexer,col_indexer] = value instead\n",
            "\n",
            "See the caveats in the documentation: https://pandas.pydata.org/pandas-docs/stable/user_guide/indexing.html#returning-a-view-versus-a-copy\n",
            "  data[['Amount', 'Time']] = scaler.fit_transform(data[['Amount', 'Time']])\n",
            "<ipython-input-8-4cc932e07152>:10: SettingWithCopyWarning: \n",
            "A value is trying to be set on a copy of a slice from a DataFrame.\n",
            "Try using .loc[row_indexer,col_indexer] = value instead\n",
            "\n",
            "See the caveats in the documentation: https://pandas.pydata.org/pandas-docs/stable/user_guide/indexing.html#returning-a-view-versus-a-copy\n",
            "  data['Hour_of_Transaction'] = (data['Time'] * 24 * 3600 // 3600) % 24\n",
            "<ipython-input-8-4cc932e07152>:15: SettingWithCopyWarning: \n",
            "A value is trying to be set on a copy of a slice from a DataFrame.\n",
            "Try using .loc[row_indexer,col_indexer] = value instead\n",
            "\n",
            "See the caveats in the documentation: https://pandas.pydata.org/pandas-docs/stable/user_guide/indexing.html#returning-a-view-versus-a-copy\n",
            "  data['Amount_Bin'] = amount_bins\n"
          ]
        }
      ]
    },
    {
      "cell_type": "code",
      "source": [
        "data=data.drop('Time',axis=1)\n",
        "data=data.drop('Amount',axis=1)"
      ],
      "metadata": {
        "id": "vsGuCUl3p78f"
      },
      "id": "vsGuCUl3p78f",
      "execution_count": 9,
      "outputs": []
    },
    {
      "cell_type": "code",
      "source": [
        "from sklearn.preprocessing import OneHotEncoder\n",
        "from sklearn.compose import ColumnTransformer"
      ],
      "metadata": {
        "id": "Z1QkBRh_q1Hi"
      },
      "id": "Z1QkBRh_q1Hi",
      "execution_count": 10,
      "outputs": []
    },
    {
      "cell_type": "code",
      "source": [
        "column_transformer = ColumnTransformer(\n",
        "    [('encoder', OneHotEncoder(), ['Amount_Bin'])],\n",
        "    remainder='passthrough'\n",
        ")\n"
      ],
      "metadata": {
        "id": "lSNoXoYcqiHO"
      },
      "id": "lSNoXoYcqiHO",
      "execution_count": 11,
      "outputs": []
    },
    {
      "cell_type": "code",
      "source": [
        "X = data.drop(['Class'], axis=1)\n",
        "y = data['Class']"
      ],
      "metadata": {
        "id": "ywsSdFjBrOVa"
      },
      "id": "ywsSdFjBrOVa",
      "execution_count": 12,
      "outputs": []
    },
    {
      "cell_type": "code",
      "source": [
        "from sklearn.pipeline import Pipeline"
      ],
      "metadata": {
        "id": "2Exsa_I5sL5G"
      },
      "id": "2Exsa_I5sL5G",
      "execution_count": 13,
      "outputs": []
    },
    {
      "cell_type": "code",
      "source": [
        "# Split the data into train and test sets\n",
        "X_train, X_test, y_train, y_test = train_test_split(X, y, test_size=0.2, random_state=42)\n",
        "\n",
        "# Create a pipeline for transformations and model fitting\n",
        "pipeline_dt = Pipeline([\n",
        "    ('preprocessor', column_transformer),\n",
        "    ('classifier', DecisionTreeClassifier(random_state=42))\n",
        "])\n",
        "\n",
        "pipeline_rf = Pipeline([\n",
        "    ('preprocessor', column_transformer),\n",
        "    ('classifier', RandomForestClassifier(random_state=42))\n",
        "])\n",
        "\n",
        "# Fit and evaluate the Decision Tree model\n",
        "pipeline_dt.fit(X_train, y_train)\n",
        "y_train_pred_dt = pipeline_dt.predict(X_train)\n",
        "y_test_pred_dt = pipeline_dt.predict(X_test)\n",
        "print(\"Decision Tree Training Data Classification Report:\")\n",
        "print(classification_report(y_train, y_train_pred_dt))\n",
        "print(\"Decision Tree Testing Data Classification Report:\")\n",
        "print(classification_report(y_test, y_test_pred_dt))\n",
        "\n",
        "# Fit and evaluate the Random Forest model\n",
        "pipeline_rf.fit(X_train, y_train)\n",
        "y_train_pred_rf = pipeline_rf.predict(X_train)\n",
        "y_test_pred_rf = pipeline_rf.predict(X_test)\n",
        "print(\"Random Forest Training Data Classification Report:\")\n",
        "print(classification_report(y_train, y_train_pred_rf))\n",
        "print(\"Random Forest Testing Data Classification Report:\")\n",
        "print(classification_report(y_test, y_test_pred_rf))"
      ],
      "metadata": {
        "colab": {
          "base_uri": "https://localhost:8080/"
        },
        "id": "vp8MFyu5roSB",
        "outputId": "8ec07e81-14d8-49f3-8074-3086b47288dc"
      },
      "id": "vp8MFyu5roSB",
      "execution_count": 14,
      "outputs": [
        {
          "output_type": "stream",
          "name": "stdout",
          "text": [
            "Decision Tree Training Data Classification Report:\n",
            "              precision    recall  f1-score   support\n",
            "\n",
            "           0       1.00      1.00      1.00    226597\n",
            "           1       1.00      1.00      1.00       383\n",
            "\n",
            "    accuracy                           1.00    226980\n",
            "   macro avg       1.00      1.00      1.00    226980\n",
            "weighted avg       1.00      1.00      1.00    226980\n",
            "\n",
            "Decision Tree Testing Data Classification Report:\n",
            "              precision    recall  f1-score   support\n",
            "\n",
            "           0       1.00      1.00      1.00     56656\n",
            "           1       0.69      0.71      0.70        90\n",
            "\n",
            "    accuracy                           1.00     56746\n",
            "   macro avg       0.84      0.86      0.85     56746\n",
            "weighted avg       1.00      1.00      1.00     56746\n",
            "\n",
            "Random Forest Training Data Classification Report:\n",
            "              precision    recall  f1-score   support\n",
            "\n",
            "           0       1.00      1.00      1.00    226597\n",
            "           1       1.00      1.00      1.00       383\n",
            "\n",
            "    accuracy                           1.00    226980\n",
            "   macro avg       1.00      1.00      1.00    226980\n",
            "weighted avg       1.00      1.00      1.00    226980\n",
            "\n",
            "Random Forest Testing Data Classification Report:\n",
            "              precision    recall  f1-score   support\n",
            "\n",
            "           0       1.00      1.00      1.00     56656\n",
            "           1       0.98      0.71      0.83        90\n",
            "\n",
            "    accuracy                           1.00     56746\n",
            "   macro avg       0.99      0.86      0.91     56746\n",
            "weighted avg       1.00      1.00      1.00     56746\n",
            "\n"
          ]
        }
      ]
    },
    {
      "cell_type": "code",
      "source": [
        "from sklearn.metrics import confusion_matrix"
      ],
      "metadata": {
        "id": "HhOlic4rtP5s"
      },
      "id": "HhOlic4rtP5s",
      "execution_count": 16,
      "outputs": []
    },
    {
      "cell_type": "code",
      "source": [
        "from sklearn.metrics import roc_curve, auc, roc_auc_score\n",
        "import matplotlib.pyplot as plt"
      ],
      "metadata": {
        "id": "CRSTDxJQt1wV"
      },
      "id": "CRSTDxJQt1wV",
      "execution_count": 17,
      "outputs": []
    },
    {
      "cell_type": "code",
      "source": [
        "cm_rf = confusion_matrix(y_test, y_test_pred_rf)\n",
        "print(\"Random Forest Confusion Matrix:\")\n",
        "print(cm_rf)"
      ],
      "metadata": {
        "colab": {
          "base_uri": "https://localhost:8080/"
        },
        "id": "dyktE38eslLO",
        "outputId": "7a90e1a3-2a1c-4b63-8ece-91ad152d92cb"
      },
      "id": "dyktE38eslLO",
      "execution_count": 18,
      "outputs": [
        {
          "output_type": "stream",
          "name": "stdout",
          "text": [
            "Random Forest Confusion Matrix:\n",
            "[[56655     1]\n",
            " [   26    64]]\n"
          ]
        }
      ]
    },
    {
      "cell_type": "code",
      "source": [
        "# Compute ROC curve and ROC area for each class\n",
        "fpr, tpr, _ = roc_curve(y_test, y_test_pred_rf)\n",
        "roc_auc = auc(fpr, tpr)\n",
        "\n",
        "# Generate ROC plot\n",
        "plt.figure()\n",
        "lw = 2\n",
        "plt.plot(fpr, tpr, color='darkorange',\n",
        "         lw=lw, label='ROC curve (area = %0.2f)' % roc_auc)\n",
        "plt.plot([0, 1], [0, 1], color='navy', lw=lw, linestyle='--')\n",
        "plt.xlim([0.0, 1.0])\n",
        "plt.ylim([0.0, 1.05])\n",
        "plt.xlabel('False Positive Rate')\n",
        "plt.ylabel('True Positive Rate')\n",
        "plt.title('Receiver Operating Characteristic')\n",
        "plt.legend(loc=\"lower right\")\n",
        "plt.show()"
      ],
      "metadata": {
        "colab": {
          "base_uri": "https://localhost:8080/",
          "height": 472
        },
        "id": "J30fnzMZttW2",
        "outputId": "c8287bb1-bcf1-4dca-d25b-9bd65889d57b"
      },
      "id": "J30fnzMZttW2",
      "execution_count": 19,
      "outputs": [
        {
          "output_type": "display_data",
          "data": {
            "text/plain": [
              "<Figure size 640x480 with 1 Axes>"
            ],
            "image/png": "[encoded data removed]"
          },
          "metadata": {}
        }
      ]
    },
    {
      "cell_type": "code",
      "source": [
        "from sklearn.model_selection import GridSearchCV"
      ],
      "metadata": {
        "id": "pQAvyNYhyw1p"
      },
      "id": "pQAvyNYhyw1p",
      "execution_count": 24,
      "outputs": []
    },
    {
      "cell_type": "code",
      "source": [
        "rf_param_grid = {\n",
        "    'classifier__n_estimators': [100, 200],\n",
        "    'classifier__max_depth': [None, 10, 20],\n",
        "    'classifier__min_samples_split': [2, 5, 10],\n",
        "    'classifier__min_samples_leaf': [1, 2, 4]\n",
        "}\n",
        "\n",
        "# Create a pipeline with a RandomForestClassifier\n",
        "pipeline_rf = Pipeline([\n",
        "    ('preprocessor', column_transformer),\n",
        "    ('classifier', RandomForestClassifier(random_state=42))\n",
        "])\n",
        "\n",
        "# Randomized search for hyperparameter tuning\n",
        "rf_random_search = RandomizedSearchCV(\n",
        "    pipeline_rf,\n",
        "    param_distributions=rf_param_grid,\n",
        "    n_iter=10,  # Number of parameter settings that are sampled\n",
        "    cv=3,       # Number of folds in cross-validation\n",
        "    verbose=2,  # Controls the verbosity: the higher, the more messages\n",
        "    n_jobs=-1,  # Number of jobs to run in parallel\n",
        "    scoring='recall'  # You can change this according to the business objective\n",
        ")\n",
        "\n",
        "# Fit the RandomizedSearchCV object to the training data\n",
        "rf_random_search.fit(X_train, y_train)\n",
        "\n",
        "# Print the best parameters found\n",
        "print(\"Best Random Forest Parameters:\", rf_random_search.best_params_)\n",
        "\n",
        "# Evaluate the best model found by RandomizedSearchCV on the training set\n",
        "print(\"Random Forest Training Data Classification Report:\")\n",
        "print(classification_report(y_train, rf_random_search.predict(X_train)))\n",
        "\n",
        "# Evaluate the best model found by RandomizedSearchCV on the test set\n",
        "print(\"Random Forest Testing Data Classification Report:\")\n",
        "print(classification_report(y_test, rf_random_search.predict(X_test)))"
      ],
      "metadata": {
        "colab": {
          "base_uri": "https://localhost:8080/"
        },
        "id": "-Uin5HtS8HCU",
        "outputId": "0cf9457c-e768-4e0b-ce99-cb48bb527b95"
      },
      "id": "-Uin5HtS8HCU",
      "execution_count": 29,
      "outputs": [
        {
          "output_type": "stream",
          "name": "stdout",
          "text": [
            "Fitting 3 folds for each of 10 candidates, totalling 30 fits\n",
            "Best Random Forest Parameters: {'classifier__n_estimators': 200, 'classifier__min_samples_split': 2, 'classifier__min_samples_leaf': 1, 'classifier__max_depth': 20}\n",
            "Random Forest Training Data Classification Report:\n",
            "              precision    recall  f1-score   support\n",
            "\n",
            "           0       1.00      1.00      1.00    226597\n",
            "           1       1.00      0.96      0.98       383\n",
            "\n",
            "    accuracy                           1.00    226980\n",
            "   macro avg       1.00      0.98      0.99    226980\n",
            "weighted avg       1.00      1.00      1.00    226980\n",
            "\n",
            "Random Forest Testing Data Classification Report:\n",
            "              precision    recall  f1-score   support\n",
            "\n",
            "           0       1.00      1.00      1.00     56656\n",
            "           1       0.96      0.73      0.83        90\n",
            "\n",
            "    accuracy                           1.00     56746\n",
            "   macro avg       0.98      0.87      0.91     56746\n",
            "weighted avg       1.00      1.00      1.00     56746\n",
            "\n"
          ]
        }
      ]
    },
    {
      "cell_type": "markdown",
      "source": [
        "SMOTE FOR FEATURE ENGINEERING"
      ],
      "metadata": {
        "id": "CXixSsTPawKe"
      },
      "id": "CXixSsTPawKe"
    },
    {
      "cell_type": "code",
      "source": [
        "X = data.drop(['Class'], axis=1)\n",
        "y = data['Class']\n",
        "\n",
        "# Setup the column transformer with OneHotEncoder\n",
        "column_transformer = ColumnTransformer(\n",
        "    [('encoder', OneHotEncoder(), ['Amount_Bin'])],\n",
        "    remainder='passthrough'\n",
        ")\n",
        "\n",
        "# Transform the dataset\n",
        "X_encoded = column_transformer.fit_transform(X)\n",
        "\n",
        "# Apply SMOTE to balance the dataset\n",
        "smote = SMOTE(random_state=42)\n",
        "X_resampled, y_resampled = smote.fit_resample(X_encoded, y)\n",
        "\n",
        "# Split the resampled data into training and testing sets\n",
        "X_train, X_test, y_train, y_test = train_test_split(X_resampled, y_resampled, test_size=0.2, random_state=42)\n",
        "\n",
        "# Train and evaluate the Decision Tree model\n",
        "dt_classifier = DecisionTreeClassifier(random_state=42)\n",
        "dt_classifier.fit(X_train, y_train)\n",
        "y_train_pred_dt = dt_classifier.predict(X_train)\n",
        "y_test_pred_dt = dt_classifier.predict(X_test)\n",
        "print(\"Decision Tree Training Data Classification Report:\")\n",
        "print(classification_report(y_train, y_train_pred_dt))\n",
        "print(\"Decision Tree Testing Data Classification Report:\")\n",
        "print(classification_report(y_test, y_test_pred_dt))\n",
        "\n",
        "# Train and evaluate the Random Forest model\n",
        "rf_classifier = RandomForestClassifier(random_state=42)\n",
        "rf_classifier.fit(X_train, y_train)\n",
        "y_train_pred_rf = rf_classifier.predict(X_train)\n",
        "y_test_pred_rf = rf_classifier.predict(X_test)\n",
        "print(\"Random Forest Training Data Classification Report:\")\n",
        "print(classification_report(y_train, y_train_pred_rf))\n",
        "print(\"Random Forest Testing Data Classification Report:\")\n",
        "print(classification_report(y_test, y_test_pred_rf))"
      ],
      "metadata": {
        "colab": {
          "base_uri": "https://localhost:8080/"
        },
        "id": "ILBkvapmw6Of",
        "outputId": "59f6a64c-6331-4ea6-b7db-687f5e4df6ef"
      },
      "id": "ILBkvapmw6Of",
      "execution_count": 28,
      "outputs": [
        {
          "output_type": "stream",
          "name": "stdout",
          "text": [
            "Decision Tree Training Data Classification Report:\n",
            "              precision    recall  f1-score   support\n",
            "\n",
            "           0       1.00      1.00      1.00    226790\n",
            "           1       1.00      1.00      1.00    226414\n",
            "\n",
            "    accuracy                           1.00    453204\n",
            "   macro avg       1.00      1.00      1.00    453204\n",
            "weighted avg       1.00      1.00      1.00    453204\n",
            "\n",
            "Decision Tree Testing Data Classification Report:\n",
            "              precision    recall  f1-score   support\n",
            "\n",
            "           0       1.00      1.00      1.00     56463\n",
            "           1       1.00      1.00      1.00     56839\n",
            "\n",
            "    accuracy                           1.00    113302\n",
            "   macro avg       1.00      1.00      1.00    113302\n",
            "weighted avg       1.00      1.00      1.00    113302\n",
            "\n",
            "Random Forest Training Data Classification Report:\n",
            "              precision    recall  f1-score   support\n",
            "\n",
            "           0       1.00      1.00      1.00    226790\n",
            "           1       1.00      1.00      1.00    226414\n",
            "\n",
            "    accuracy                           1.00    453204\n",
            "   macro avg       1.00      1.00      1.00    453204\n",
            "weighted avg       1.00      1.00      1.00    453204\n",
            "\n",
            "Random Forest Testing Data Classification Report:\n",
            "              precision    recall  f1-score   support\n",
            "\n",
            "           0       1.00      1.00      1.00     56463\n",
            "           1       1.00      1.00      1.00     56839\n",
            "\n",
            "    accuracy                           1.00    113302\n",
            "   macro avg       1.00      1.00      1.00    113302\n",
            "weighted avg       1.00      1.00      1.00    113302\n",
            "\n"
          ]
        }
      ]
    },
    {
      "cell_type": "markdown",
      "source": [
        "HYPER PARAMETER TUNING FOR ABOVE MODEL(FEATURE ENGINEERING SMOTE)"
      ],
      "metadata": {
        "id": "KkUUvWSWa2Ef"
      },
      "id": "KkUUvWSWa2Ef"
    },
    {
      "cell_type": "code",
      "source": [
        "import pandas as pd\n",
        "from sklearn.preprocessing import MinMaxScaler, OneHotEncoder\n",
        "from sklearn.compose import ColumnTransformer\n",
        "from sklearn.model_selection import train_test_split, RandomizedSearchCV\n",
        "from sklearn.tree import DecisionTreeClassifier\n",
        "from sklearn.ensemble import RandomForestClassifier\n",
        "from sklearn.metrics import classification_report\n",
        "from imblearn.over_sampling import SMOTE\n",
        "from imblearn.pipeline import Pipeline as IMBPipeline\n",
        "\n",
        "# Load and prepare the data\n",
        "data = pd.read_csv('/creditcard.csv')\n",
        "data = data.drop_duplicates()\n",
        "scaler = MinMaxScaler()\n",
        "data[['Amount', 'Time']] = scaler.fit_transform(data[['Amount', 'Time']])\n",
        "data['Hour_of_Transaction'] = (data['Time'] * 24 * 3600 // 3600) % 24\n",
        "amount_bins = pd.qcut(data['Amount'], q=[0, 0.33, 0.66, 1], labels=[\"Small\", \"Medium\", \"High\"])\n",
        "data['Amount_Bin'] = amount_bins\n",
        "\n",
        "# One-hot encoding\n",
        "column_transformer = ColumnTransformer(\n",
        "    [('encoder', OneHotEncoder(), ['Amount_Bin'])],\n",
        "    remainder='passthrough'\n",
        ")\n",
        "\n",
        "X = data.drop(['Class'], axis=1)\n",
        "y = data['Class']\n",
        "\n",
        "pipeline = IMBPipeline([\n",
        "    ('preprocessor', column_transformer),\n",
        "    ('smote', SMOTE(random_state=42))\n",
        "])\n",
        "\n",
        "X_processed, y_processed = pipeline.fit_resample(X, y)\n",
        "X_train, X_test, y_train, y_test = train_test_split(X_processed, y_processed, test_size=0.2, random_state=42)\n",
        "\n",
        "# Random Forest hyperparameter grid\n",
        "rf_param_grid = {\n",
        "    'n_estimators': [100, 200],  # Reduced the number of estimators\n",
        "    'max_depth': [None, 10],     # Fewer options for depth\n",
        "    'min_samples_split': [2, 5], # Reduced options\n",
        "    'min_samples_leaf': [1, 2]   # Simplified\n",
        "}\n",
        "\n",
        "# Randomized search for Random Forest\n",
        "rf_random_search = RandomizedSearchCV(RandomForestClassifier(random_state=42), rf_param_grid, n_iter=10, cv=3, scoring='accuracy', verbose=1, n_jobs=-1)\n",
        "rf_random_search.fit(X_train, y_train)\n",
        "print(\"Best Random Forest Parameters:\", rf_random_search.best_params_)\n",
        "print(\"Random Forest Training Data Classification Report:\")\n",
        "print(classification_report(y_train, rf_random_search.predict(X_train)))\n",
        "print(\"Random Forest Testing Data Classification Report:\")\n",
        "print(classification_report(y_test, rf_random_search.predict(X_test)))\n"
      ],
      "metadata": {
        "colab": {
          "base_uri": "https://localhost:8080/"
        },
        "id": "bNwpqn_0ytW9",
        "outputId": "70e0db6c-af58-4371-f42b-7b94aed5e2ce"
      },
      "id": "bNwpqn_0ytW9",
      "execution_count": 31,
      "outputs": [
        {
          "output_type": "stream",
          "name": "stderr",
          "text": [
            "<ipython-input-31-7180dad39ef3>:15: SettingWithCopyWarning: \n",
            "A value is trying to be set on a copy of a slice from a DataFrame.\n",
            "Try using .loc[row_indexer,col_indexer] = value instead\n",
            "\n",
            "See the caveats in the documentation: https://pandas.pydata.org/pandas-docs/stable/user_guide/indexing.html#returning-a-view-versus-a-copy\n",
            "  data[['Amount', 'Time']] = scaler.fit_transform(data[['Amount', 'Time']])\n"
          ]
        },
        {
          "output_type": "stream",
          "name": "stdout",
          "text": [
            "Fitting 3 folds for each of 10 candidates, totalling 30 fits\n",
            "Best Random Forest Parameters: {'n_estimators': 200, 'min_samples_split': 2, 'min_samples_leaf': 1, 'max_depth': None}\n",
            "Random Forest Training Data Classification Report:\n",
            "              precision    recall  f1-score   support\n",
            "\n",
            "           0       1.00      1.00      1.00    226790\n",
            "           1       1.00      1.00      1.00    226414\n",
            "\n",
            "    accuracy                           1.00    453204\n",
            "   macro avg       1.00      1.00      1.00    453204\n",
            "weighted avg       1.00      1.00      1.00    453204\n",
            "\n",
            "Random Forest Testing Data Classification Report:\n",
            "              precision    recall  f1-score   support\n",
            "\n",
            "           0       1.00      1.00      1.00     56463\n",
            "           1       1.00      1.00      1.00     56839\n",
            "\n",
            "    accuracy                           1.00    113302\n",
            "   macro avg       1.00      1.00      1.00    113302\n",
            "weighted avg       1.00      1.00      1.00    113302\n",
            "\n"
          ]
        }
      ]
    },
    {
      "cell_type": "markdown",
      "source": [
        "We are not considering the feature Engineering SMOTE tecnique due to its perfect classification as it doesn't not work in real time situations."
      ],
      "metadata": {
        "id": "sf2pyV1sbBnm"
      },
      "id": "sf2pyV1sbBnm"
    }
  ],
  "metadata": {
    "kernelspec": {
      "display_name": "Python 3 (ipykernel)",
      "language": "python",
      "name": "python3"
    },
    "language_info": {
      "codemirror_mode": {
        "name": "ipython",
        "version": 3
      },
      "file_extension": ".py",
      "mimetype": "text/x-python",
      "name": "python",
      "nbconvert_exporter": "python",
      "pygments_lexer": "ipython3",
      "version": "3.11.5"
    },
    "colab": {
      "provenance": []
    }
  },
  "nbformat": 4,
  "nbformat_minor": 5
}